{
 "cells": [
  {
   "cell_type": "markdown",
   "metadata": {},
   "source": [
    "# 选择\n",
    "## 布尔类型、数值和表达式\n",
    "![](../Photo/33.png)\n",
    "- 注意：比较运算符的相等是两个等到，一个等到代表赋值\n",
    "- 在Python中可以用整型0来代表False，其他数字来代表True\n",
    "- 后面还会讲到 is 在判断语句中的用发"
   ]
  },
  {
   "cell_type": "code",
   "execution_count": 9,
   "metadata": {},
   "outputs": [],
   "source": [
    "b = 320"
   ]
  },
  {
   "cell_type": "code",
   "execution_count": 11,
   "metadata": {},
   "outputs": [
    {
     "name": "stdout",
     "output_type": "stream",
     "text": [
      "你想抢多少钱啊？：30\n",
      "给你吧，好汉饶命！\n",
      "真命苦，我就剩 240\n"
     ]
    }
   ],
   "source": [
    "a = eval(input('你想抢多少钱啊？：'))\n",
    "\n",
    "if a <= b :\n",
    "    print('给你吧，好汉饶命！')\n",
    "    c = b - a \n",
    "    b = c\n",
    "    print('真命苦，我就剩',c)\n",
    "   # send_message()\n",
    "else :\n",
    "    print('滚，打死你')\n"
   ]
  },
  {
   "cell_type": "markdown",
   "metadata": {},
   "source": [
    "## 字符串的比较使用ASCII值"
   ]
  },
  {
   "cell_type": "code",
   "execution_count": null,
   "metadata": {},
   "outputs": [],
   "source": []
  },
  {
   "cell_type": "markdown",
   "metadata": {},
   "source": [
    "## Markdown \n",
    "- https://github.com/younghz/Markdown"
   ]
  },
  {
   "cell_type": "markdown",
   "metadata": {},
   "source": [
    "## EP:\n",
    "- <img src=\"../Photo/34.png\"></img>\n",
    "- 输入一个数字，判断其实奇数还是偶数"
   ]
  },
  {
   "cell_type": "markdown",
   "metadata": {},
   "source": [
    "## 产生随机数字\n",
    "- 函数random.randint(a,b) 可以用来产生一个a和b之间且包括a和b的随机整数"
   ]
  },
  {
   "cell_type": "code",
   "execution_count": 12,
   "metadata": {},
   "outputs": [],
   "source": [
    "import random"
   ]
  },
  {
   "cell_type": "code",
   "execution_count": 13,
   "metadata": {},
   "outputs": [
    {
     "data": {
      "text/plain": [
       "5"
      ]
     },
     "execution_count": 13,
     "metadata": {},
     "output_type": "execute_result"
    }
   ],
   "source": [
    "random.randint(0,10)"
   ]
  },
  {
   "cell_type": "markdown",
   "metadata": {},
   "source": [
    "##  其他random方法\n",
    "- random.random 返回0.0到1.0之间前闭后开区间的随机浮点\n",
    "- random.randrange(a,b) 前闭后开"
   ]
  },
  {
   "cell_type": "code",
   "execution_count": 14,
   "metadata": {},
   "outputs": [
    {
     "data": {
      "text/plain": [
       "0.6783243156690526"
      ]
     },
     "execution_count": 14,
     "metadata": {},
     "output_type": "execute_result"
    }
   ],
   "source": [
    "random.random()\n"
   ]
  },
  {
   "cell_type": "markdown",
   "metadata": {},
   "source": [
    "## EP：\n",
    "- 产生两个随机整数number1和number2，然后显示给用户，使用户输入数字的和，并判定其是否正确\n",
    "- 进阶:写一个随机序号点名程序"
   ]
  },
  {
   "cell_type": "code",
   "execution_count": 1,
   "metadata": {},
   "outputs": [
    {
     "name": "stdout",
     "output_type": "stream",
     "text": [
      "3 47\n",
      "请输入他们的和：50\n",
      "你真棒\n"
     ]
    }
   ],
   "source": [
    "import random\n",
    "a = random.randint(0,10)\n",
    "b = random.randint(0,99)\n",
    "print(a,b)\n",
    "c= eval(input('请输入他们的和：'))\n",
    "if c == a+b:\n",
    "    print('你真棒')\n",
    "else :\n",
    "    print('菜狗')"
   ]
  },
  {
   "cell_type": "code",
   "execution_count": 5,
   "metadata": {},
   "outputs": [
    {
     "name": "stdout",
     "output_type": "stream",
     "text": [
      "8 2\n"
     ]
    }
   ],
   "source": [
    "\n",
    "import random\n",
    "a = random.randint(1,10)\n",
    "b = random.randint(1,5)\n",
    "print(a,b)"
   ]
  },
  {
   "cell_type": "markdown",
   "metadata": {},
   "source": [
    "## if语句\n",
    "- 如果条件正确就执行一个单向if语句，亦即当条件为真的时候才执行if内部的语句\n",
    "- Python有很多选择语句:\n",
    "> - 单向if \n",
    "  - 双向if-else\n",
    "  - 嵌套if\n",
    "  - 多向if-elif-else\n",
    "  \n",
    "- 注意：当语句含有子语句的时候，那么一定至少要有一个缩进，也就是说如果有儿子存在，那么一定要缩进\n",
    "- 切记不可tab键和space混用，单用tab 或者 space\n",
    "- 当你输出的结果是无论if是否为真时都需要显示时，语句应该与if对齐"
   ]
  },
  {
   "cell_type": "code",
   "execution_count": 8,
   "metadata": {},
   "outputs": [
    {
     "name": "stdout",
     "output_type": "stream",
     "text": [
      "输入你的分数：85\n",
      "你真是个小鬼\n"
     ]
    }
   ],
   "source": [
    "a = eval(input('输入你的分数：'))\n",
    "if a >= 90:\n",
    "    print('你真是个小机灵鬼')\n",
    "elif a >= 80:\n",
    "    print('你真是个小鬼')\n",
    "elif  a >= 70:\n",
    "    print('你真是个小傻逼')\n",
    "else:\n",
    "    print('你真是个大傻逼')"
   ]
  },
  {
   "cell_type": "code",
   "execution_count": null,
   "metadata": {},
   "outputs": [],
   "source": [
    "a = eval(input('你是优质用户吗？'))\n",
    "if a = '是':\n",
    "    "
   ]
  },
  {
   "cell_type": "markdown",
   "metadata": {},
   "source": [
    "## EP：\n",
    "- 用户输入一个数字，判断其实奇数还是偶数\n",
    "- 进阶：可以查看下4.5实例研究猜生日"
   ]
  },
  {
   "cell_type": "code",
   "execution_count": 10,
   "metadata": {},
   "outputs": [
    {
     "name": "stdout",
     "output_type": "stream",
     "text": [
      "请输入你的幸运数字：5\n",
      "他是奇数哦\n"
     ]
    }
   ],
   "source": [
    "a = eval(input('请输入你的幸运数字：'))\n",
    "if a%2 == 0 :\n",
    "    print('他是偶数哦')\n",
    "else :\n",
    "    print('他是奇数哦')"
   ]
  },
  {
   "cell_type": "markdown",
   "metadata": {},
   "source": [
    "## 双向if-else 语句\n",
    "- 如果条件为真，那么走if内部语句，否则走else内部语句"
   ]
  },
  {
   "cell_type": "markdown",
   "metadata": {},
   "source": [
    "## EP：\n",
    "- 产生两个随机整数number1和number2，然后显示给用户，使用户输入数字，并判定其是否正确,如果正确打印“you‘re correct”，否则打印正确错误"
   ]
  },
  {
   "cell_type": "code",
   "execution_count": null,
   "metadata": {},
   "outputs": [],
   "source": [
    "import random\n",
    "a = random.randint(0,10)\n",
    "b = random.randint(0,99)\n",
    "print(a,b)\n",
    "c= eval(input('请输入他们的和：'))\n",
    "if c == a+b:\n",
    "    print('你真棒')\n",
    "else :\n",
    "    print('菜狗')"
   ]
  },
  {
   "cell_type": "markdown",
   "metadata": {},
   "source": [
    "## 嵌套if 和多向if-elif-else\n",
    "![](../Photo/35.png)"
   ]
  },
  {
   "cell_type": "markdown",
   "metadata": {},
   "source": [
    "## EP：\n",
    "- 提示用户输入一个年份，然后显示表示这一年的动物\n",
    "![](../Photo/36.png)\n",
    "- 计算身体质量指数的程序\n",
    "- BMI = 以千克为单位的体重除以以米为单位的身高\n",
    "![](../Photo/37.png)"
   ]
  },
  {
   "cell_type": "code",
   "execution_count": 14,
   "metadata": {},
   "outputs": [
    {
     "name": "stdout",
     "output_type": "stream",
     "text": [
      "你的体重（kg）90\n",
      "你的身高(m)1.8\n",
      "请不要用两个人的体重来侮辱本机器的智商\n"
     ]
    }
   ],
   "source": [
    "a = eval(input('你的体重（kg）'))\n",
    "b = eval(input('你的身高(m)'))\n",
    "c = a / b\n",
    "if c <18.5:\n",
    "    print('太轻了，多吃点')\n",
    "elif 18.5 <= c < 25:\n",
    "    print('真标准，注意健康')\n",
    "elif 25 <= c <= 30:\n",
    "    print('死胖子，少吃点')\n",
    "else:\n",
    "    print('请不要用两个人的体重来侮辱本机器的智商')"
   ]
  },
  {
   "cell_type": "code",
   "execution_count": 11,
   "metadata": {},
   "outputs": [
    {
     "name": "stdout",
     "output_type": "stream",
     "text": [
      "请输入你的出生那一年：1997\n",
      "牛\n"
     ]
    }
   ],
   "source": [
    "a = eval(input('请输入你的出生那一年：'))\n",
    "if a%12 == 0 :\n",
    "    print('猴')\n",
    "elif a%12 == 1:\n",
    "    print('鸡')\n",
    "elif a%12 == 2:\n",
    "    print('狗')\n",
    "elif a%12 == 3:\n",
    "    print('猪')\n",
    "elif a%12 == 4:\n",
    "    print('鼠')\n",
    "elif a%12 == 5:\n",
    "    print('牛')\n",
    "elif a%12 == 6:\n",
    "    print('虎')\n",
    "elif a%12 == 7:\n",
    "    print('兔')\n",
    "elif a%12 == 8:\n",
    "    print('龙')\n",
    "elif a%12 == 9:\n",
    "    print('蛇')\n",
    "elif a%12 == 10:\n",
    "    print('马')\n",
    "else :\n",
    "    print('羊')"
   ]
  },
  {
   "cell_type": "code",
   "execution_count": null,
   "metadata": {},
   "outputs": [],
   "source": []
  },
  {
   "cell_type": "markdown",
   "metadata": {},
   "source": [
    "## 逻辑运算符\n",
    "![](../Photo/38.png)"
   ]
  },
  {
   "cell_type": "code",
   "execution_count": null,
   "metadata": {},
   "outputs": [],
   "source": []
  },
  {
   "cell_type": "markdown",
   "metadata": {},
   "source": [
    "![](../Photo/39.png)\n",
    "![](../Photo/40.png)"
   ]
  },
  {
   "cell_type": "markdown",
   "metadata": {},
   "source": [
    "## EP：\n",
    "- 判定闰年：一个年份如果能被4整除但不能被100整除，或者能被400整除，那么这个年份就是闰年\n",
    "- 提示用户输入一个年份，并返回是否是闰年\n",
    "- 提示用户输入一个数字，判断其是否为水仙花数"
   ]
  },
  {
   "cell_type": "code",
   "execution_count": 18,
   "metadata": {},
   "outputs": [
    {
     "name": "stdout",
     "output_type": "stream",
     "text": [
      "请输入一个年份：400\n",
      "是闰年哦\n"
     ]
    }
   ],
   "source": [
    "a = eval(input('请输入一个年份：'))\n",
    "if (a % 4 == 0 and a % 100 != 0) or a % 400 ==0 :\n",
    "    print('是闰年哦')\n",
    "else:\n",
    "    print('不是闰年哦')\n",
    "    "
   ]
  },
  {
   "cell_type": "code",
   "execution_count": 20,
   "metadata": {},
   "outputs": [
    {
     "name": "stdout",
     "output_type": "stream",
     "text": [
      "请输入一个三位数字：153\n",
      "水仙花送给你\n"
     ]
    }
   ],
   "source": [
    "a = eval(input('请输入一个三位数字：'))\n",
    "str_a = str(a)\n",
    "bai = int (str_a[0])\n",
    "shi = int(str_a[1])\n",
    "ge = int(str_a[2])\n",
    "if a == bai **3 + shi ** 3 +ge ** 3:\n",
    "    print('水仙花送给你')"
   ]
  },
  {
   "cell_type": "code",
   "execution_count": 21,
   "metadata": {},
   "outputs": [
    {
     "data": {
      "text/plain": [
       "'c'"
      ]
     },
     "execution_count": 21,
     "metadata": {},
     "output_type": "execute_result"
    }
   ],
   "source": [
    "a = 'abc'\n",
    "a[2]"
   ]
  },
  {
   "cell_type": "code",
   "execution_count": 29,
   "metadata": {},
   "outputs": [
    {
     "name": "stdout",
     "output_type": "stream",
     "text": [
      "水仙花 153\n",
      "水仙花 370\n",
      "水仙花 371\n",
      "水仙花 407\n"
     ]
    }
   ],
   "source": [
    "import math\n",
    "for a in range(100,1000):\n",
    "    str_a = str(a)\n",
    "    bai = int (str_a[0])\n",
    "    shi = int(str_a[1])\n",
    "    ge = int(str_a[2])\n",
    "    if a == math.pow(bai,3) + math.pow(ge,3) +math.pow(shi,3):\n",
    "        print('水仙花',a)"
   ]
  },
  {
   "cell_type": "markdown",
   "metadata": {},
   "source": [
    "## 实例研究：彩票\n",
    "![](../Photo/41.png)"
   ]
  },
  {
   "cell_type": "code",
   "execution_count": null,
   "metadata": {},
   "outputs": [],
   "source": []
  },
  {
   "cell_type": "code",
   "execution_count": 52,
   "metadata": {},
   "outputs": [
    {
     "name": "stdout",
     "output_type": "stream",
     "text": [
      "请输入一个两位数字：16\n",
      "你输了，下次继续\n",
      "97\n"
     ]
    }
   ],
   "source": [
    "import random\n",
    "n = eval(input('请输入一个两位数字：'))\n",
    "str_a = str(n)\n",
    "a = int(str_a[0])\n",
    "b = int(str_a[1])\n",
    "m = random.randint(10,99)\n",
    "str_b = str(m)\n",
    "c = int(str_b[0])\n",
    "d = int(str_b[0])\n",
    "\n",
    "if a == c and b == d:\n",
    "     print('你中了10000美元')\n",
    "elif (a == c and b == d)or(a == d and b == c):\n",
    "    print('你中了3000美元')\n",
    "elif(a == d or a == c)or (b ==  c or b == d):\n",
    "    print('你中了1000美元')\n",
    "else :\n",
    "     print('你输了，下次继续')\n",
    "print(m)"
   ]
  },
  {
   "cell_type": "markdown",
   "metadata": {},
   "source": [
    "# Homework\n",
    "- 1\n",
    "![](../Photo/42.png)"
   ]
  },
  {
   "cell_type": "code",
   "execution_count": 8,
   "metadata": {},
   "outputs": [
    {
     "name": "stdout",
     "output_type": "stream",
     "text": [
      "请输入三个值1,2,3\n",
      "no real roots\n"
     ]
    }
   ],
   "source": [
    "import math\n",
    "a,b,c=eval(input('请输入三个值'))\n",
    "d = b**2-4*a*c\n",
    "\n",
    "if d > 0 :\n",
    "    r1 = (-b+math.sqrt(d))/2*a\n",
    "    r2 = (-b-math.sqrt(d))/2*a\n",
    "    print(r1,r2)\n",
    "elif d == 0:\n",
    "    r1 = (-b+math.sqrt(d))/2*a\n",
    "    print(r1)\n",
    "else:\n",
    "    print('no real roots')\n",
    "    "
   ]
  },
  {
   "cell_type": "markdown",
   "metadata": {},
   "source": [
    "- 2\n",
    "![](../Photo/43.png)"
   ]
  },
  {
   "cell_type": "code",
   "execution_count": null,
   "metadata": {},
   "outputs": [],
   "source": [
    "import random\n",
    "a = random.randint(0,99)\n",
    "b = random.randint(0,99)\n",
    "print(a,b)\n",
    "c= eval(input('请输入他们的和：'))\n",
    "if c == a+b:\n",
    "    print('你真棒')\n",
    "else :\n",
    "    print('菜狗')"
   ]
  },
  {
   "cell_type": "markdown",
   "metadata": {},
   "source": [
    "- 3\n",
    "![](../Photo/44.png)"
   ]
  },
  {
   "cell_type": "code",
   "execution_count": 10,
   "metadata": {},
   "outputs": [
    {
     "name": "stdout",
     "output_type": "stream",
     "text": [
      "请输入今天是一周内哪一天0\n",
      "请输入今天到未来某天的天数31\n",
      "今天是周三\n"
     ]
    }
   ],
   "source": [
    "c = eval(input('请输入今天是一周内哪一天:'))\n",
    "b = eval(input('请输入今天到未来某天的天数:'))\n",
    "a = c + b\n",
    "if a % 7 ==0 :\n",
    "    print('今天是周日')\n",
    "elif a % 7 == 1:\n",
    "    print('今天是周一')\n",
    "elif a % 7 == 2:\n",
    "    print('今天是周二')\n",
    "elif a % 7 == 3:\n",
    "    print('今天是周三')\n",
    "elif a % 7 == 4:\n",
    "    print('今天是周四')\n",
    "elif a % 7 == 5:\n",
    "    print('今天是周五')\n",
    "elif a % 7 == 6:\n",
    "    print('今天是周六')"
   ]
  },
  {
   "cell_type": "markdown",
   "metadata": {},
   "source": [
    "- 4\n",
    "![](../Photo/45.png)"
   ]
  },
  {
   "cell_type": "code",
   "execution_count": 25,
   "metadata": {},
   "outputs": [
    {
     "name": "stdout",
     "output_type": "stream",
     "text": [
      "请输入三个整数：6,5,8\n",
      "[5, 6, 8]\n"
     ]
    }
   ],
   "source": [
    "\n",
    "a,b,c = eval(input('请输入三个整数：'))\n",
    "d = [a,b,c]\n",
    "d.sort()\n",
    "print(d)"
   ]
  },
  {
   "cell_type": "markdown",
   "metadata": {},
   "source": [
    "- 5\n",
    "![](../Photo/46.png)"
   ]
  },
  {
   "cell_type": "code",
   "execution_count": 1,
   "metadata": {},
   "outputs": [
    {
     "name": "stdout",
     "output_type": "stream",
     "text": [
      "请报上重量和价格：50,24.59\n",
      "请报上另一个的重量和价格：25,11.99\n",
      "第二个吧，比较不错的\n"
     ]
    }
   ],
   "source": [
    "a1,b1 = eval(input('请报上重量和价格：'))\n",
    "c1,d1 = eval(input('请报上另一个的重量和价格：'))\n",
    "e = (a1) / (b1)\n",
    "f = (c1) / (d1)\n",
    "if e>f:\n",
    "    print('第一个更好一些哦')\n",
    "elif e==f:\n",
    "    print('两种性价比差不多哦')\n",
    "else:\n",
    "    print('第二个吧，比较不错的')\n",
    "    "
   ]
  },
  {
   "cell_type": "markdown",
   "metadata": {},
   "source": [
    "- 6\n",
    "![](../Photo/47.png)"
   ]
  },
  {
   "cell_type": "code",
   "execution_count": 2,
   "metadata": {},
   "outputs": [
    {
     "name": "stdout",
     "output_type": "stream",
     "text": [
      "请输入月份：5\n",
      "请输入年份：2016\n",
      "2016 年 5 月有31天\n"
     ]
    }
   ],
   "source": [
    "a = eval(input('请输入月份：'))\n",
    "b = eval(input('请输入年份：'))\n",
    "if a == 2 and ((a % 4 == 0 and a % 100 != 0) or a % 400 ==0):\n",
    "    print(b,'年',a,'月有29天')\n",
    "elif a == 2 and ((a % 4 == 0 and a % 100 != 0) or a % 400 ==0):\n",
    "    print(b,'年',a,'月有28天')\n",
    "elif (a == 1,3,5,7,8,10,12):\n",
    "    print(b,'年',a,'月有31天')\n",
    "else:\n",
    "     print(b,'年',a,'月有30天')"
   ]
  },
  {
   "cell_type": "markdown",
   "metadata": {},
   "source": [
    "- 7\n",
    "![](../Photo/48.png)"
   ]
  },
  {
   "cell_type": "code",
   "execution_count": 5,
   "metadata": {},
   "outputs": [
    {
     "name": "stdout",
     "output_type": "stream",
     "text": [
      "你猜这是正面还是反面,1为正，2为反:1\n",
      "false\n",
      "2\n"
     ]
    }
   ],
   "source": [
    "import random\n",
    "a = eval(input('你猜这是正面还是反面,1为正，2为反:'))\n",
    "b = random.randint(1,2)\n",
    "if a == b:\n",
    "    print('true')\n",
    "else:\n",
    "    print('false')\n",
    "print(b)"
   ]
  },
  {
   "cell_type": "markdown",
   "metadata": {},
   "source": [
    "- 8\n",
    "![](../Photo/49.png)"
   ]
  },
  {
   "cell_type": "code",
   "execution_count": 9,
   "metadata": {},
   "outputs": [
    {
     "name": "stdout",
     "output_type": "stream",
     "text": [
      "请输入0，1，2来代替剪刀石头布：0\n",
      "你输了\n",
      "1\n"
     ]
    }
   ],
   "source": [
    "import random\n",
    "a = eval(input('请输入0，1，2来代替剪刀石头布：'))\n",
    "b = random.randint(0,2)\n",
    "if a ==0 and b==2:\n",
    "    print('你赢了')\n",
    "elif a == 2 and b == 0:\n",
    "    print('你输了')\n",
    "elif a>b:\n",
    "    print('你赢了')\n",
    "elif a<b:\n",
    "    print('你输了')\n",
    "else:\n",
    "    print('再来')\n",
    "print(b)"
   ]
  },
  {
   "cell_type": "markdown",
   "metadata": {},
   "source": [
    "- 9\n",
    "![](../Photo/50.png)"
   ]
  },
  {
   "cell_type": "code",
   "execution_count": 3,
   "metadata": {},
   "outputs": [
    {
     "name": "stdout",
     "output_type": "stream",
     "text": [
      "请输入年份：2018\n",
      "请输入月份：8\n",
      "请输入日期：29\n",
      "今天是周三\n"
     ]
    }
   ],
   "source": [
    "y = eval(input('请输入年份：'))\n",
    "m = eval(input('请输入月份：'))\n",
    "q = eval(input('请输入日期：'))\n",
    "\n",
    "if m==1 or m==2:\n",
    "    y=y-1\n",
    "j=y//100\n",
    "k=y%100\n",
    "h=(q+(26*(m+1)/10)+k+(k/4)+j/4+5*j)%7\n",
    "c=h//1\n",
    "if c ==0 :\n",
    "    print('今天是周六')\n",
    "elif c == 1:\n",
    "    print('今天是周日')\n",
    "elif c == 2:\n",
    "    print('今天是周一')\n",
    "elif c == 3:\n",
    "    print('今天是周二')\n",
    "elif c== 4:\n",
    "    print('今天是周三')\n",
    "elif c == 5:\n",
    "    print('今天是周四')\n",
    "elif c == 6:\n",
    "    print('今天是周五')\n"
   ]
  },
  {
   "cell_type": "code",
   "execution_count": 31,
   "metadata": {},
   "outputs": [
    {
     "name": "stdout",
     "output_type": "stream",
     "text": [
      "输入年份：2018\n",
      "输入月份：8\n",
      "输入当前月份的某天：29\n",
      "Day of the week is 星期三\n"
     ]
    }
   ],
   "source": [
    "year = eval(input('输入年份：'))\n",
    "months = eval(input('输入月份：'))\n",
    "days = eval(input('输入当前月份的某天：'))\n",
    "hdayDict = {0:'星期六',1:'星期日', 2: '星期一', 3: '星期二', 4: '星期三', 5: '星期四', 6: '星期五'}\n",
    "monDict = {1: '13', 2: '14', 3: '3', 4: '4', 5: '5', 6: '6', 7: '7', 8: '8', 9: '9', 10: '10', \\\n",
    "             11: '11', 12: '12'}\n",
    "if months == 1 or months == 2:\n",
    "    year = year - 1 \n",
    "shijishu = year // 100\n",
    "shijiyear = year % 100\n",
    "h = (days + (26 * (eval(monDict[months]) + 1)) // 10 + shijiyear + shijiyear // 4 + shijishu // 4 + 5 * shijishu) % 7\n",
    "print('Day of the week is ' + hdayDict[h])"
   ]
  },
  {
   "cell_type": "markdown",
   "metadata": {},
   "source": [
    "- 10\n",
    "![](../Photo/51.png)"
   ]
  },
  {
   "cell_type": "code",
   "execution_count": 27,
   "metadata": {},
   "outputs": [
    {
     "name": "stdout",
     "output_type": "stream",
     "text": [
      "[6] ['redheart']\n"
     ]
    }
   ],
   "source": [
    "import random\n",
    "a = ['Ace',2,3,4,5,6,7,8,9,10,'Jack','Queen','King']\n",
    "b = ['flower','redheart','方形','black']\n",
    "c=random.sample(a,1)\n",
    "d=random.sample(b,1)\n",
    "print(c,d)"
   ]
  },
  {
   "cell_type": "markdown",
   "metadata": {},
   "source": [
    "- 11\n",
    "![](../Photo/52.png)"
   ]
  },
  {
   "cell_type": "code",
   "execution_count": 29,
   "metadata": {},
   "outputs": [
    {
     "name": "stdout",
     "output_type": "stream",
     "text": [
      "请输入一个三位整数121\n",
      "此乃回文数\n"
     ]
    }
   ],
   "source": [
    "a = eval(input('请输入一个三位整数'))\n",
    "str_a = str(a)\n",
    "b = int (str_a[0])\n",
    "c = int(str_a[1])\n",
    "d = int(str_a[2])\n",
    "if b==d:\n",
    "    print('此乃回文数')\n",
    "else:\n",
    "    print('这不是哦')"
   ]
  },
  {
   "cell_type": "markdown",
   "metadata": {},
   "source": [
    "- 12\n",
    "![](../Photo/53.png)"
   ]
  },
  {
   "cell_type": "code",
   "execution_count": 6,
   "metadata": {},
   "outputs": [
    {
     "name": "stdout",
     "output_type": "stream",
     "text": [
      "亲输入你选择的三角形的三个边：1,3,5\n",
      "输入非法\n"
     ]
    }
   ],
   "source": [
    "a,b,c = eval(input('亲输入你选择的三角形的三个边：'))\n",
    "d=a+b+c\n",
    "if (a+b)>c and (a+c)>b and (c+b)>a:\n",
    "    print(d)\n",
    "else:\n",
    "    print('输入非法')"
   ]
  }
 ],
 "metadata": {
  "kernelspec": {
   "display_name": "Python 3",
   "language": "python",
   "name": "python3"
  },
  "language_info": {
   "codemirror_mode": {
    "name": "ipython",
    "version": 3
   },
   "file_extension": ".py",
   "mimetype": "text/x-python",
   "name": "python",
   "nbconvert_exporter": "python",
   "pygments_lexer": "ipython3",
   "version": "3.6.4"
  }
 },
 "nbformat": 4,
 "nbformat_minor": 2
}
